{
 "cells": [
  {
   "cell_type": "code",
   "execution_count": null,
   "metadata": {},
   "outputs": [],
   "source": [
    "import numpy as np\n",
    "import matplotlib.pyplot as plt\n",
    "from mpl_toolkits.mplot3d import Axes3D\n",
    "\n",
    "from lineare_regression import linear_hypothesis_vec, cost_function_vec, feature_scaling, compute_new_theta_vec, gradient_descent_multi\n"
   ]
  },
  {
   "cell_type": "code",
   "execution_count": null,
   "metadata": {},
   "outputs": [],
   "source": [
    "# 1) Erstellen Sie zuerst zum Testen Ihrer Lösung künstliche Datenwerte für\n",
    "# zwei Merkmale (Features): \n",
    "# X soll dabei eine Datenmatrix mit zwei Spalten sein, wobei die Werte zufällig aus\n",
    "# einer Gleichverteilung (konstante Wahrscheinlichkeitsdichte in einem Intervall) gezogen werden.\n",
    "\n",
    "\n",
    "def generate_x_values(num_of_features: int, interval_min: float, interval_max: float, sample_size: int):\n",
    "    return np.random.uniform(interval_min, interval_max, (sample_size, num_of_features))\n",
    "\n",
    "\n",
    "x_values = generate_x_values(num_of_features=2, interval_min=0, interval_max=10, sample_size=100)\n",
    "print(x_values.shape)\n",
    "print(x_values)\n"
   ]
  },
  {
   "cell_type": "code",
   "execution_count": null,
   "metadata": {},
   "outputs": [],
   "source": [
    "# 2) Implementieren Sie die Hypothese (lineares Modell) als Python Funktion:\n",
    "# linear_hypothesis(theta)\n",
    "# \n",
    "# Die Pythonfunktion soll dabei eine Funktion zurückgeben:\n",
    "# >> theta = np.array([1.1, 2.0, -.9]) \n",
    "# >> h = linear_hypothesis(theta) \n",
    "# >> print h(X) \n",
    "# array([ -0.99896965, 20.71147926, ....\n",
    "\n",
    "theta = np.array([1.1, 2.0, -.9]) \n",
    "h = linear_hypothesis_vec(theta) \n",
    "print(h(x_values))"
   ]
  },
  {
   "cell_type": "code",
   "execution_count": null,
   "metadata": {},
   "outputs": [],
   "source": [
    "# 3) \n",
    "# a) Nutzen Sie die Funktion linear_hypothesis(theta) zum Generieren \n",
    "# künstlicher y-Werte (Zielwerte) für Ihre Merkmalsvektoren (Zeilen von X). \n",
    "# Addieren Sie zusätzich ein gaussches Rauschen auf die einzelnen y-Werte.\n",
    "\n",
    "# noise params\n",
    "\n",
    "mean = 0\n",
    "std = 5\n",
    "\n",
    "y_values = h(x_values)\n",
    "y_values = np.add(y_values, np.random.normal(loc=mean, scale=std, size=y_values.shape))\n",
    "\n",
    "print(y_values)\n",
    "\n",
    "# b) Stellen Sie die X1-X2-Y Werte in einem 3D Plot dar.\n",
    "# siehe: http://matplotlib.org/mpl_toolkits/mplot3d/tutorial.html\n",
    "\n",
    "fig = plt.figure()\n",
    "ax = fig.add_subplot(111, projection=\"3d\")  # type: Axes3D\n",
    "ax.scatter(x_values[:, 0], x_values[:, 1], y_values)\n",
    "ax.set_xlabel(\"X1\")\n",
    "ax.set_ylabel(\"X2\")\n",
    "ax.set_zlabel(\"Y\")\n",
    "plt.show()\n",
    "\n",
    "# c) Implementieren Sie das Feature Scaling um neue x' Werte zu berechnen\n",
    "\n",
    "x_scaled = feature_scaling(x_values)\n",
    "print(x_scaled)\n",
    "print(\"x_scaled mean: {}\".format(np.mean(x_scaled)))\n",
    "print(\"x_scaled std: {}\".format(np.std(x_scaled)))\n"
   ]
  },
  {
   "cell_type": "code",
   "execution_count": null,
   "metadata": {},
   "outputs": [],
   "source": [
    "# 4) Implementieren Sie die Kostenfunktion J als Python Funktion:\n",
    "# cost_function(x, y)\n",
    "# Die Pythonfunktion soll dabei eine Funktion zurückgeben, die\n",
    "# die denParametervektor theta aufnimmt.\n",
    "# \n",
    "# >> j = cost_function(X, y) \n",
    "# >> print j(theta)\n",
    "# 41.20 # Wert abhaengig von X und y\n",
    "\n",
    "j = cost_function_vec(linear_hypothesis_vec, x_scaled, y_values) \n",
    "print(j(theta))\n"
   ]
  },
  {
   "cell_type": "code",
   "execution_count": null,
   "metadata": {},
   "outputs": [],
   "source": [
    "# 5) Implementieren Sie das Gradientenabstiegsverfahren unter Benutzung der Kostenfunktion und der linearen Hypothese.\n",
    "# 5a) Schreiben Sie eine Funktion die die Update Rules anwendet zur Berechnung der neuen theta-Werte:\n",
    "# theta = compute_new_theta(x, y, theta, alpha)\n",
    "\n",
    "new_theta = compute_new_theta_vec(h, x_scaled, y_values, theta, 0.001)\n",
    "print(new_theta)\n",
    "\n",
    "# 5b) Wählen Sie Startwerte in der Umgebung des Miniums der Kostenfunktion für theta. \n",
    "# Wenden Sie iterativ die compute_new_theta Funktion an und finden Sie so ein Theta mit niedrigen Kosten.\n",
    "# Kapseln Sie dies in eine Funktion:\n",
    "# gradient_descent(alpha, theta, nb_iterations, X, y)\n",
    "\n",
    "cost_y, last_thetas = gradient_descent_multi(x_scaled, y_values, theta, 0.001, iterations=10000)\n",
    "\n",
    "# 5c) Plotten Sie den Fortschritt (Verringerung der Kosten über den Iterationen) für 5b\n",
    "\n",
    "cost_x = np.arange(0, len(cost_y))\n",
    "\n",
    "plt.title(\"learning progress\")\n",
    "plt.xlabel(\"iterations\")\n",
    "plt.ylabel(\"costs\")\n",
    "plt.plot(cost_x, cost_y)\n",
    "plt.show()\n",
    "\n",
    "print(\"last cost value: {}\".format(cost_y[-1]))\n"
   ]
  },
  {
   "cell_type": "code",
   "execution_count": null,
   "metadata": {},
   "outputs": [],
   "source": [
    "# 6) Stellen Sie die gefundene Hyperebene in einem 3D Plot zusammen mit den Daten dar\n",
    "\n",
    "fig = plt.figure()\n",
    "ax = fig.add_subplot(111, projection=\"3d\")  # type: Axes3D\n",
    "ax.scatter(x_values[:, 0], x_values[:, 1], y_values)\n",
    "ax.set_xlabel(\"X1\")\n",
    "ax.set_ylabel(\"X2\")\n",
    "ax.set_zlabel(\"Y\")\n",
    "plt.show()\n"
   ]
  }
 ],
 "metadata": {
  "kernelspec": {
   "display_name": "Python 3",
   "language": "python",
   "name": "python3"
  },
  "language_info": {
   "codemirror_mode": {
    "name": "ipython",
    "version": 3
   },
   "file_extension": ".py",
   "mimetype": "text/x-python",
   "name": "python",
   "nbconvert_exporter": "python",
   "pygments_lexer": "ipython3",
   "version": "3.6.5"
  }
 },
 "nbformat": 4,
 "nbformat_minor": 1
}
