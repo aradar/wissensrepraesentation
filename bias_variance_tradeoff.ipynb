{
 "cells": [
  {
   "cell_type": "code",
   "execution_count": null,
   "metadata": {},
   "outputs": [],
   "source": [
    "import numpy as np\n",
    "import matplotlib\n",
    "import matplotlib.pyplot as plt\n",
    "\n",
    "from scipy.integrate import quad\n",
    "\n",
    "from lineare_regression import linear_hypothesis"
   ]
  },
  {
   "cell_type": "markdown",
   "metadata": {},
   "source": [
    "# 1. generating training data"
   ]
  },
  {
   "cell_type": "code",
   "execution_count": null,
   "metadata": {},
   "outputs": [],
   "source": [
    "def generate_training_data(num_entries: int, num_examples: int = 2) -> np.ndarray:\n",
    "    x = np.multiply(np.random.rand(num_entries, num_examples), 2 * np.pi)\n",
    "    y = np.sin(x)\n",
    "    \n",
    "    return x, y\n",
    "\n",
    "x, y = generate_training_data(10000)"
   ]
  },
  {
   "cell_type": "markdown",
   "metadata": {},
   "source": [
    "# 2. generating hypothesis"
   ]
  },
  {
   "cell_type": "code",
   "execution_count": null,
   "metadata": {},
   "outputs": [],
   "source": [
    "def calc_constant_theta(x: np.ndarray, y: np.ndarray) -> np.ndarray:\n",
    "    m = np.zeros(len(x))\n",
    "    b = y.mean(axis=1)\n",
    "    \n",
    "    return np.hstack((np.expand_dims(b, axis=1), np.expand_dims(m, axis=1)))\n",
    "\n",
    "def calc_linear_theta(x, y) -> np.ndarray:\n",
    "    y0 = y[..., 0]\n",
    "    y1 = y[..., 1]\n",
    "    x0 = x[..., 0]\n",
    "    x1 = x[..., 1]\n",
    "    \n",
    "    m = np.divide(np.subtract(y1, y0), np.subtract(x1, x0))\n",
    "    b = y0 - m * x0\n",
    "    \n",
    "    return np.hstack((np.expand_dims(b, axis=1), np.expand_dims(m, axis=1)))\n",
    "\n",
    "h_0 = calc_constant_theta(x, y)\n",
    "h_1 = calc_linear_theta(x, y)\n",
    "\n",
    "print(x.shape)\n",
    "print(h_0.shape)\n",
    "print(h_1.shape)"
   ]
  },
  {
   "cell_type": "markdown",
   "metadata": {},
   "source": [
    "# 3. calculating $E_{out}$"
   ]
  },
  {
   "cell_type": "code",
   "execution_count": null,
   "metadata": {},
   "outputs": [],
   "source": [
    "def e_out_integral(x, theta):\n",
    "    h = linear_hypothesis(theta[0], theta[1])\n",
    "    return np.square(np.subtract(np.sin(x), h(x)))\n",
    "\n",
    "def integrate_eout_expectation(h_set):\n",
    "    e_out = []\n",
    "    for h in h_set:\n",
    "        integral, _ = quad(integrate_eout_expectation, 0, 2 * np.pi, args=(h, ))\n",
    "        e_out.append(integral)\n",
    "    return np.array(e_out)\n",
    "    \n",
    "e_out_h_0 = integrate_e_out(h_0)\n",
    "print (\"expectation of E_out of model 1:\", e_out_h_0.mean())\n",
    "e_out_h_1 = integrate_e_out(h_1)\n",
    "print (\"expectation of E_out of model 2:\", e_out_h_1.mean())"
   ]
  },
  {
   "cell_type": "code",
   "execution_count": null,
   "metadata": {},
   "outputs": [],
   "source": [
    "avg_theta_0_m1 = np.average(h_0, axis=0)\n",
    "\n",
    "avg_theta_0_m2 = np.average(h_1, axis=0)\n",
    "avg_theta_1_m2 = np.average(h_1, axis=1)\n",
    "\n",
    "x0 = x[..., 0]\n",
    "x1 = x[..., 1]\n",
    "\n",
    "plt.plot(x, y, 'b-', label='target function')\n",
    "plt.plot(x1,  avg_theta_0_m2 + avg_theta_1_m2 * x1.mean(), 'r-', label='average model 2')\n",
    "plt.plot(x0,  np.ones(len(x)) * avg_theta_0_m1, 'g-', label='average model 1')\n",
    "plt.xlabel(\"x\"); plt.ylabel(\"y\"), plt.legend()"
   ]
  },
  {
   "cell_type": "markdown",
   "metadata": {},
   "source": [
    "# 4. bias + variance"
   ]
  },
  {
   "cell_type": "code",
   "execution_count": null,
   "metadata": {},
   "outputs": [],
   "source": [
    "def calculate_bias(theta_0):\n",
    "    return np.mean(theta_0 - np.sin(x))\n",
    "\n",
    "bias_1 = calculate_bias(h_0[0, ...])\n",
    "bias_2 = calculate_bias(h_1[0, ...])\n",
    "\n",
    "print(\"bias of model 1: \", bias_1)\n",
    "print(\"bias of model 2: \", bias_2)\n",
    "\n",
    "def calculate_variance():\n",
    "    pass\n",
    "\n",
    "variance_1 = calculate_variance()\n",
    "variance_2 = calculate_variance()\n",
    "\n",
    "print(\"variance of model 1: \", variance_1)\n",
    "print(\"variance of model 2: \", variance_2)"
   ]
  },
  {
   "cell_type": "code",
   "execution_count": null,
   "metadata": {},
   "outputs": [],
   "source": [
    " "
   ]
  }
 ],
 "metadata": {
  "kernelspec": {
   "display_name": "Python 3",
   "language": "python",
   "name": "python3"
  },
  "language_info": {
   "codemirror_mode": {
    "name": "ipython",
    "version": 3
   },
   "file_extension": ".py",
   "mimetype": "text/x-python",
   "name": "python",
   "nbconvert_exporter": "python",
   "pygments_lexer": "ipython3",
   "version": "3.6.5"
  }
 },
 "nbformat": 4,
 "nbformat_minor": 2
}
